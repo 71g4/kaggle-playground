{
 "cells": [
  {
   "cell_type": "code",
   "execution_count": 1,
   "id": "e11d80da",
   "metadata": {
    "_cell_guid": "b1076dfc-b9ad-4769-8c92-a6c4dae69d19",
    "_uuid": "8f2839f25d086af736a60e9eeb907d3b93b6e0e5",
    "execution": {
     "iopub.execute_input": "2024-09-22T17:15:25.970110Z",
     "iopub.status.busy": "2024-09-22T17:15:25.969580Z",
     "iopub.status.idle": "2024-09-22T17:15:26.373174Z",
     "shell.execute_reply": "2024-09-22T17:15:26.371560Z"
    },
    "papermill": {
     "duration": 0.411769,
     "end_time": "2024-09-22T17:15:26.375670",
     "exception": false,
     "start_time": "2024-09-22T17:15:25.963901",
     "status": "completed"
    },
    "tags": []
   },
   "outputs": [
    {
     "name": "stdout",
     "output_type": "stream",
     "text": [
      "/kaggle/input/used-car-dataset/sample_submission.csv\n",
      "/kaggle/input/used-car-dataset/train.csv\n",
      "/kaggle/input/used-car-dataset/test.csv\n"
     ]
    }
   ],
   "source": [
    "# This Python 3 environment comes with many helpful analytics libraries installed\n",
    "# It is defined by the kaggle/python Docker image: https://github.com/kaggle/docker-python\n",
    "# For example, here's several helpful packages to load\n",
    "\n",
    "import numpy as np # linear algebra\n",
    "import pandas as pd # data processing, CSV file I/O (e.g. pd.read_csv)\n",
    "\n",
    "# Input data files are available in the read-only \"../input/\" directory\n",
    "# For example, running this (by clicking run or pressing Shift+Enter) will list all files under the input directory\n",
    "\n",
    "import os\n",
    "for dirname, _, filenames in os.walk('/kaggle/input'):\n",
    "    for filename in filenames:\n",
    "        print(os.path.join(dirname, filename))\n",
    "\n",
    "# You can write up to 20GB to the current directory (/kaggle/working/) that gets preserved as output when you create a version using \"Save & Run All\" \n",
    "# You can also write temporary files to /kaggle/temp/, but they won't be saved outside of the current session"
   ]
  },
  {
   "cell_type": "code",
   "execution_count": 2,
   "id": "3f9a1281",
   "metadata": {
    "execution": {
     "iopub.execute_input": "2024-09-22T17:15:26.384786Z",
     "iopub.status.busy": "2024-09-22T17:15:26.384271Z",
     "iopub.status.idle": "2024-09-22T17:15:29.561890Z",
     "shell.execute_reply": "2024-09-22T17:15:29.560862Z"
    },
    "papermill": {
     "duration": 3.185069,
     "end_time": "2024-09-22T17:15:29.564514",
     "exception": false,
     "start_time": "2024-09-22T17:15:26.379445",
     "status": "completed"
    },
    "tags": []
   },
   "outputs": [],
   "source": [
    "from sklearn.preprocessing import OrdinalEncoder\n",
    "from sklearn.impute import SimpleImputer\n",
    "from sklearn.compose import ColumnTransformer\n",
    "from sklearn.pipeline import Pipeline\n",
    "from sklearn.preprocessing import OneHotEncoder\n",
    "from sklearn.model_selection import train_test_split\n",
    "\n",
    "from sklearn.ensemble import RandomForestRegressor\n",
    "from sklearn.metrics import mean_squared_error\n",
    "\n",
    "df_train = pd.read_csv('/kaggle/input/used-car-dataset/train.csv')\n",
    "df_test = pd.read_csv('/kaggle/input/used-car-dataset/test.csv')"
   ]
  },
  {
   "cell_type": "code",
   "execution_count": 3,
   "id": "8c1d4689",
   "metadata": {
    "execution": {
     "iopub.execute_input": "2024-09-22T17:15:29.573540Z",
     "iopub.status.busy": "2024-09-22T17:15:29.573103Z",
     "iopub.status.idle": "2024-09-22T17:15:29.780737Z",
     "shell.execute_reply": "2024-09-22T17:15:29.779526Z"
    },
    "papermill": {
     "duration": 0.215052,
     "end_time": "2024-09-22T17:15:29.783311",
     "exception": false,
     "start_time": "2024-09-22T17:15:29.568259",
     "status": "completed"
    },
    "tags": []
   },
   "outputs": [],
   "source": [
    "# EDA of the variable: BRAND.\n",
    "# EDA of the variable: Model.\n",
    "# EDA of the variable: Engine.\n",
    "# EDA of the variable: Transmission.\n",
    "# EDA of the variable: ext_col.\n",
    "# EDA of the variable: int_col\n",
    "# make variables: brand_avg, model_avg, engine_avg, transmission_avg. Do not include collors for now\n",
    "df_train['brand_avg'] = df_train.groupby('brand')['price'].transform('mean')\n",
    "df_train['model_avg'] = df_train.groupby('model')['price'].transform('mean')\n",
    "df_train['engine_avg'] = df_train.groupby('engine')['price'].transform('mean')\n",
    "df_train['transmission_avg'] = df_train.groupby('transmission')['price'].transform('mean')\n",
    "\n",
    "df_test['brand_avg'] = df_train.groupby('brand')['price'].transform('mean')\n",
    "df_test['model_avg'] = df_train.groupby('model')['price'].transform('mean')\n",
    "df_test['engine_avg'] = df_train.groupby('engine')['price'].transform('mean')\n",
    "df_test['transmission_avg'] = df_train.groupby('transmission')['price'].transform('mean')\n"
   ]
  },
  {
   "cell_type": "code",
   "execution_count": null,
   "id": "305fd84f",
   "metadata": {
    "papermill": {
     "duration": 0.003205,
     "end_time": "2024-09-22T17:15:29.790072",
     "exception": false,
     "start_time": "2024-09-22T17:15:29.786867",
     "status": "completed"
    },
    "tags": []
   },
   "outputs": [],
   "source": []
  },
  {
   "cell_type": "code",
   "execution_count": 4,
   "id": "d42f89a6",
   "metadata": {
    "execution": {
     "iopub.execute_input": "2024-09-22T17:15:29.798588Z",
     "iopub.status.busy": "2024-09-22T17:15:29.798174Z",
     "iopub.status.idle": "2024-09-22T17:15:30.093661Z",
     "shell.execute_reply": "2024-09-22T17:15:30.092785Z"
    },
    "papermill": {
     "duration": 0.302815,
     "end_time": "2024-09-22T17:15:30.096286",
     "exception": false,
     "start_time": "2024-09-22T17:15:29.793471",
     "status": "completed"
    },
    "tags": []
   },
   "outputs": [],
   "source": [
    "### Drop ID column\n",
    "df_train.drop(columns='id', inplace=True)\n",
    "df_test.drop(columns='id', inplace=True)\n",
    "\n",
    "### Clean the 'Accident' column\n",
    "df_train['accident'].unique()\n",
    "df_train.loc[df_train['accident'] == 'None reported', 'accidentbool'] = False\n",
    "df_train.loc[df_train['accident'] == 'At least 1 accident or damage reported', 'accidentbool'] = True\n",
    "df_train.drop(columns='accident', inplace = True)\n",
    "\n",
    "df_test.loc[df_test['accident'] == 'None reported', 'accidentbool'] = False\n",
    "df_test.loc[df_test['accident'] == 'At least 1 accident or damage reported', 'accidentbool'] = True\n",
    "df_test.drop(columns='accident', inplace = True)\n",
    "\n",
    "## Clean the 'clean_title' column\n",
    "df_train['clean_title'].unique()\n",
    "df_train.loc[df_train['clean_title'] == 'Yes', 'cleanbool'] = True\n",
    "df_train.drop(columns='clean_title', inplace = True)\n",
    "\n",
    "df_test.loc[df_test['clean_title'] == 'Yes', 'cleanbool'] = True\n",
    "df_test.drop(columns='clean_title', inplace = True)\n"
   ]
  },
  {
   "cell_type": "code",
   "execution_count": 5,
   "id": "a7c3f6c6",
   "metadata": {
    "execution": {
     "iopub.execute_input": "2024-09-22T17:15:30.104996Z",
     "iopub.status.busy": "2024-09-22T17:15:30.104592Z",
     "iopub.status.idle": "2024-09-22T17:15:30.255573Z",
     "shell.execute_reply": "2024-09-22T17:15:30.254500Z"
    },
    "papermill": {
     "duration": 0.158345,
     "end_time": "2024-09-22T17:15:30.258284",
     "exception": false,
     "start_time": "2024-09-22T17:15:30.099939",
     "status": "completed"
    },
    "tags": []
   },
   "outputs": [],
   "source": [
    "# Define the Tables\n",
    "X = df_train\n",
    "X = X.drop(columns='price')\n",
    "y = df_train.price\n",
    "\n",
    "# Define the columns that are going to be used\n",
    "numerical_cols = ['model_year', 'milage', 'brand_avg', 'model_avg', 'engine_avg', 'transmission_avg']\n",
    "categorical_cols = ['fuel_type', 'cleanbool', 'accidentbool']\n",
    "\n",
    "# Separate test and validation of the df_train dataframe\n",
    "X_train, X_valid, y_train, y_valid = train_test_split(X, y, train_size=0.8, test_size=0.2, random_state=0)\n",
    "\n",
    "# Defining strategies for numerical and categorical columns\n",
    "numerical_transformer = SimpleImputer(strategy='mean')\n",
    "\n",
    "categorical_transformer = Pipeline(steps=[\n",
    "    ('imputer', SimpleImputer(strategy='most_frequent')),\n",
    "    ('onehot', OneHotEncoder(handle_unknown='ignore'))\n",
    "])\n",
    "\n",
    "# Bundle the preprocessor\n",
    "\n",
    "preprocessor = ColumnTransformer(\n",
    "    transformers=[\n",
    "        ('num', numerical_transformer, numerical_cols),\n",
    "        ('cat', categorical_transformer, categorical_cols)\n",
    "    ])\n",
    "\n"
   ]
  },
  {
   "cell_type": "code",
   "execution_count": 6,
   "id": "4606ce21",
   "metadata": {
    "execution": {
     "iopub.execute_input": "2024-09-22T17:15:30.266913Z",
     "iopub.status.busy": "2024-09-22T17:15:30.266485Z",
     "iopub.status.idle": "2024-09-22T17:15:30.271810Z",
     "shell.execute_reply": "2024-09-22T17:15:30.270758Z"
    },
    "papermill": {
     "duration": 0.01213,
     "end_time": "2024-09-22T17:15:30.273900",
     "exception": false,
     "start_time": "2024-09-22T17:15:30.261770",
     "status": "completed"
    },
    "tags": []
   },
   "outputs": [],
   "source": [
    "# Modeling\n",
    "model = RandomForestRegressor(n_estimators = 100, random_state=0)\n",
    "clf = Pipeline(steps=[('preprocessor', preprocessor),\n",
    "                  ('model', model)\n",
    "                 ])\n",
    "\n"
   ]
  },
  {
   "cell_type": "code",
   "execution_count": 7,
   "id": "2d7c0efd",
   "metadata": {
    "execution": {
     "iopub.execute_input": "2024-09-22T17:15:30.282623Z",
     "iopub.status.busy": "2024-09-22T17:15:30.281837Z",
     "iopub.status.idle": "2024-09-22T17:16:57.647811Z",
     "shell.execute_reply": "2024-09-22T17:16:57.646426Z"
    },
    "papermill": {
     "duration": 87.375946,
     "end_time": "2024-09-22T17:16:57.653235",
     "exception": false,
     "start_time": "2024-09-22T17:15:30.277289",
     "status": "completed"
    },
    "tags": []
   },
   "outputs": [
    {
     "data": {
      "text/html": [
       "<style>#sk-container-id-1 {color: black;background-color: white;}#sk-container-id-1 pre{padding: 0;}#sk-container-id-1 div.sk-toggleable {background-color: white;}#sk-container-id-1 label.sk-toggleable__label {cursor: pointer;display: block;width: 100%;margin-bottom: 0;padding: 0.3em;box-sizing: border-box;text-align: center;}#sk-container-id-1 label.sk-toggleable__label-arrow:before {content: \"▸\";float: left;margin-right: 0.25em;color: #696969;}#sk-container-id-1 label.sk-toggleable__label-arrow:hover:before {color: black;}#sk-container-id-1 div.sk-estimator:hover label.sk-toggleable__label-arrow:before {color: black;}#sk-container-id-1 div.sk-toggleable__content {max-height: 0;max-width: 0;overflow: hidden;text-align: left;background-color: #f0f8ff;}#sk-container-id-1 div.sk-toggleable__content pre {margin: 0.2em;color: black;border-radius: 0.25em;background-color: #f0f8ff;}#sk-container-id-1 input.sk-toggleable__control:checked~div.sk-toggleable__content {max-height: 200px;max-width: 100%;overflow: auto;}#sk-container-id-1 input.sk-toggleable__control:checked~label.sk-toggleable__label-arrow:before {content: \"▾\";}#sk-container-id-1 div.sk-estimator input.sk-toggleable__control:checked~label.sk-toggleable__label {background-color: #d4ebff;}#sk-container-id-1 div.sk-label input.sk-toggleable__control:checked~label.sk-toggleable__label {background-color: #d4ebff;}#sk-container-id-1 input.sk-hidden--visually {border: 0;clip: rect(1px 1px 1px 1px);clip: rect(1px, 1px, 1px, 1px);height: 1px;margin: -1px;overflow: hidden;padding: 0;position: absolute;width: 1px;}#sk-container-id-1 div.sk-estimator {font-family: monospace;background-color: #f0f8ff;border: 1px dotted black;border-radius: 0.25em;box-sizing: border-box;margin-bottom: 0.5em;}#sk-container-id-1 div.sk-estimator:hover {background-color: #d4ebff;}#sk-container-id-1 div.sk-parallel-item::after {content: \"\";width: 100%;border-bottom: 1px solid gray;flex-grow: 1;}#sk-container-id-1 div.sk-label:hover label.sk-toggleable__label {background-color: #d4ebff;}#sk-container-id-1 div.sk-serial::before {content: \"\";position: absolute;border-left: 1px solid gray;box-sizing: border-box;top: 0;bottom: 0;left: 50%;z-index: 0;}#sk-container-id-1 div.sk-serial {display: flex;flex-direction: column;align-items: center;background-color: white;padding-right: 0.2em;padding-left: 0.2em;position: relative;}#sk-container-id-1 div.sk-item {position: relative;z-index: 1;}#sk-container-id-1 div.sk-parallel {display: flex;align-items: stretch;justify-content: center;background-color: white;position: relative;}#sk-container-id-1 div.sk-item::before, #sk-container-id-1 div.sk-parallel-item::before {content: \"\";position: absolute;border-left: 1px solid gray;box-sizing: border-box;top: 0;bottom: 0;left: 50%;z-index: -1;}#sk-container-id-1 div.sk-parallel-item {display: flex;flex-direction: column;z-index: 1;position: relative;background-color: white;}#sk-container-id-1 div.sk-parallel-item:first-child::after {align-self: flex-end;width: 50%;}#sk-container-id-1 div.sk-parallel-item:last-child::after {align-self: flex-start;width: 50%;}#sk-container-id-1 div.sk-parallel-item:only-child::after {width: 0;}#sk-container-id-1 div.sk-dashed-wrapped {border: 1px dashed gray;margin: 0 0.4em 0.5em 0.4em;box-sizing: border-box;padding-bottom: 0.4em;background-color: white;}#sk-container-id-1 div.sk-label label {font-family: monospace;font-weight: bold;display: inline-block;line-height: 1.2em;}#sk-container-id-1 div.sk-label-container {text-align: center;}#sk-container-id-1 div.sk-container {/* jupyter's `normalize.less` sets `[hidden] { display: none; }` but bootstrap.min.css set `[hidden] { display: none !important; }` so we also need the `!important` here to be able to override the default hidden behavior on the sphinx rendered scikit-learn.org. See: https://github.com/scikit-learn/scikit-learn/issues/21755 */display: inline-block !important;position: relative;}#sk-container-id-1 div.sk-text-repr-fallback {display: none;}</style><div id=\"sk-container-id-1\" class=\"sk-top-container\"><div class=\"sk-text-repr-fallback\"><pre>Pipeline(steps=[(&#x27;preprocessor&#x27;,\n",
       "                 ColumnTransformer(transformers=[(&#x27;num&#x27;, SimpleImputer(),\n",
       "                                                  [&#x27;model_year&#x27;, &#x27;milage&#x27;,\n",
       "                                                   &#x27;brand_avg&#x27;, &#x27;model_avg&#x27;,\n",
       "                                                   &#x27;engine_avg&#x27;,\n",
       "                                                   &#x27;transmission_avg&#x27;]),\n",
       "                                                 (&#x27;cat&#x27;,\n",
       "                                                  Pipeline(steps=[(&#x27;imputer&#x27;,\n",
       "                                                                   SimpleImputer(strategy=&#x27;most_frequent&#x27;)),\n",
       "                                                                  (&#x27;onehot&#x27;,\n",
       "                                                                   OneHotEncoder(handle_unknown=&#x27;ignore&#x27;))]),\n",
       "                                                  [&#x27;fuel_type&#x27;, &#x27;cleanbool&#x27;,\n",
       "                                                   &#x27;accidentbool&#x27;])])),\n",
       "                (&#x27;model&#x27;, RandomForestRegressor(random_state=0))])</pre><b>In a Jupyter environment, please rerun this cell to show the HTML representation or trust the notebook. <br />On GitHub, the HTML representation is unable to render, please try loading this page with nbviewer.org.</b></div><div class=\"sk-container\" hidden><div class=\"sk-item sk-dashed-wrapped\"><div class=\"sk-label-container\"><div class=\"sk-label sk-toggleable\"><input class=\"sk-toggleable__control sk-hidden--visually\" id=\"sk-estimator-id-1\" type=\"checkbox\" ><label for=\"sk-estimator-id-1\" class=\"sk-toggleable__label sk-toggleable__label-arrow\">Pipeline</label><div class=\"sk-toggleable__content\"><pre>Pipeline(steps=[(&#x27;preprocessor&#x27;,\n",
       "                 ColumnTransformer(transformers=[(&#x27;num&#x27;, SimpleImputer(),\n",
       "                                                  [&#x27;model_year&#x27;, &#x27;milage&#x27;,\n",
       "                                                   &#x27;brand_avg&#x27;, &#x27;model_avg&#x27;,\n",
       "                                                   &#x27;engine_avg&#x27;,\n",
       "                                                   &#x27;transmission_avg&#x27;]),\n",
       "                                                 (&#x27;cat&#x27;,\n",
       "                                                  Pipeline(steps=[(&#x27;imputer&#x27;,\n",
       "                                                                   SimpleImputer(strategy=&#x27;most_frequent&#x27;)),\n",
       "                                                                  (&#x27;onehot&#x27;,\n",
       "                                                                   OneHotEncoder(handle_unknown=&#x27;ignore&#x27;))]),\n",
       "                                                  [&#x27;fuel_type&#x27;, &#x27;cleanbool&#x27;,\n",
       "                                                   &#x27;accidentbool&#x27;])])),\n",
       "                (&#x27;model&#x27;, RandomForestRegressor(random_state=0))])</pre></div></div></div><div class=\"sk-serial\"><div class=\"sk-item sk-dashed-wrapped\"><div class=\"sk-label-container\"><div class=\"sk-label sk-toggleable\"><input class=\"sk-toggleable__control sk-hidden--visually\" id=\"sk-estimator-id-2\" type=\"checkbox\" ><label for=\"sk-estimator-id-2\" class=\"sk-toggleable__label sk-toggleable__label-arrow\">preprocessor: ColumnTransformer</label><div class=\"sk-toggleable__content\"><pre>ColumnTransformer(transformers=[(&#x27;num&#x27;, SimpleImputer(),\n",
       "                                 [&#x27;model_year&#x27;, &#x27;milage&#x27;, &#x27;brand_avg&#x27;,\n",
       "                                  &#x27;model_avg&#x27;, &#x27;engine_avg&#x27;,\n",
       "                                  &#x27;transmission_avg&#x27;]),\n",
       "                                (&#x27;cat&#x27;,\n",
       "                                 Pipeline(steps=[(&#x27;imputer&#x27;,\n",
       "                                                  SimpleImputer(strategy=&#x27;most_frequent&#x27;)),\n",
       "                                                 (&#x27;onehot&#x27;,\n",
       "                                                  OneHotEncoder(handle_unknown=&#x27;ignore&#x27;))]),\n",
       "                                 [&#x27;fuel_type&#x27;, &#x27;cleanbool&#x27;, &#x27;accidentbool&#x27;])])</pre></div></div></div><div class=\"sk-parallel\"><div class=\"sk-parallel-item\"><div class=\"sk-item\"><div class=\"sk-label-container\"><div class=\"sk-label sk-toggleable\"><input class=\"sk-toggleable__control sk-hidden--visually\" id=\"sk-estimator-id-3\" type=\"checkbox\" ><label for=\"sk-estimator-id-3\" class=\"sk-toggleable__label sk-toggleable__label-arrow\">num</label><div class=\"sk-toggleable__content\"><pre>[&#x27;model_year&#x27;, &#x27;milage&#x27;, &#x27;brand_avg&#x27;, &#x27;model_avg&#x27;, &#x27;engine_avg&#x27;, &#x27;transmission_avg&#x27;]</pre></div></div></div><div class=\"sk-serial\"><div class=\"sk-item\"><div class=\"sk-estimator sk-toggleable\"><input class=\"sk-toggleable__control sk-hidden--visually\" id=\"sk-estimator-id-4\" type=\"checkbox\" ><label for=\"sk-estimator-id-4\" class=\"sk-toggleable__label sk-toggleable__label-arrow\">SimpleImputer</label><div class=\"sk-toggleable__content\"><pre>SimpleImputer()</pre></div></div></div></div></div></div><div class=\"sk-parallel-item\"><div class=\"sk-item\"><div class=\"sk-label-container\"><div class=\"sk-label sk-toggleable\"><input class=\"sk-toggleable__control sk-hidden--visually\" id=\"sk-estimator-id-5\" type=\"checkbox\" ><label for=\"sk-estimator-id-5\" class=\"sk-toggleable__label sk-toggleable__label-arrow\">cat</label><div class=\"sk-toggleable__content\"><pre>[&#x27;fuel_type&#x27;, &#x27;cleanbool&#x27;, &#x27;accidentbool&#x27;]</pre></div></div></div><div class=\"sk-serial\"><div class=\"sk-item\"><div class=\"sk-serial\"><div class=\"sk-item\"><div class=\"sk-estimator sk-toggleable\"><input class=\"sk-toggleable__control sk-hidden--visually\" id=\"sk-estimator-id-6\" type=\"checkbox\" ><label for=\"sk-estimator-id-6\" class=\"sk-toggleable__label sk-toggleable__label-arrow\">SimpleImputer</label><div class=\"sk-toggleable__content\"><pre>SimpleImputer(strategy=&#x27;most_frequent&#x27;)</pre></div></div></div><div class=\"sk-item\"><div class=\"sk-estimator sk-toggleable\"><input class=\"sk-toggleable__control sk-hidden--visually\" id=\"sk-estimator-id-7\" type=\"checkbox\" ><label for=\"sk-estimator-id-7\" class=\"sk-toggleable__label sk-toggleable__label-arrow\">OneHotEncoder</label><div class=\"sk-toggleable__content\"><pre>OneHotEncoder(handle_unknown=&#x27;ignore&#x27;)</pre></div></div></div></div></div></div></div></div></div></div><div class=\"sk-item\"><div class=\"sk-estimator sk-toggleable\"><input class=\"sk-toggleable__control sk-hidden--visually\" id=\"sk-estimator-id-8\" type=\"checkbox\" ><label for=\"sk-estimator-id-8\" class=\"sk-toggleable__label sk-toggleable__label-arrow\">RandomForestRegressor</label><div class=\"sk-toggleable__content\"><pre>RandomForestRegressor(random_state=0)</pre></div></div></div></div></div></div></div>"
      ],
      "text/plain": [
       "Pipeline(steps=[('preprocessor',\n",
       "                 ColumnTransformer(transformers=[('num', SimpleImputer(),\n",
       "                                                  ['model_year', 'milage',\n",
       "                                                   'brand_avg', 'model_avg',\n",
       "                                                   'engine_avg',\n",
       "                                                   'transmission_avg']),\n",
       "                                                 ('cat',\n",
       "                                                  Pipeline(steps=[('imputer',\n",
       "                                                                   SimpleImputer(strategy='most_frequent')),\n",
       "                                                                  ('onehot',\n",
       "                                                                   OneHotEncoder(handle_unknown='ignore'))]),\n",
       "                                                  ['fuel_type', 'cleanbool',\n",
       "                                                   'accidentbool'])])),\n",
       "                ('model', RandomForestRegressor(random_state=0))])"
      ]
     },
     "execution_count": 7,
     "metadata": {},
     "output_type": "execute_result"
    }
   ],
   "source": [
    "clf.fit(X_train, y_train)\n"
   ]
  },
  {
   "cell_type": "code",
   "execution_count": 8,
   "id": "2f1e157d",
   "metadata": {
    "execution": {
     "iopub.execute_input": "2024-09-22T17:16:57.662429Z",
     "iopub.status.busy": "2024-09-22T17:16:57.662021Z",
     "iopub.status.idle": "2024-09-22T17:17:00.045662Z",
     "shell.execute_reply": "2024-09-22T17:17:00.043247Z"
    },
    "papermill": {
     "duration": 2.3918,
     "end_time": "2024-09-22T17:17:00.048841",
     "exception": false,
     "start_time": "2024-09-22T17:16:57.657041",
     "status": "completed"
    },
    "tags": []
   },
   "outputs": [
    {
     "name": "stdout",
     "output_type": "stream",
     "text": [
      "73983.43090651305\n"
     ]
    }
   ],
   "source": [
    "preds = clf.predict(X_valid)\n",
    "print(np.sqrt(mean_squared_error(preds, y_valid)))"
   ]
  },
  {
   "cell_type": "code",
   "execution_count": 9,
   "id": "431d3a54",
   "metadata": {
    "execution": {
     "iopub.execute_input": "2024-09-22T17:17:00.059520Z",
     "iopub.status.busy": "2024-09-22T17:17:00.058956Z",
     "iopub.status.idle": "2024-09-22T17:17:06.630673Z",
     "shell.execute_reply": "2024-09-22T17:17:06.629389Z"
    },
    "papermill": {
     "duration": 6.580801,
     "end_time": "2024-09-22T17:17:06.633729",
     "exception": false,
     "start_time": "2024-09-22T17:17:00.052928",
     "status": "completed"
    },
    "tags": []
   },
   "outputs": [],
   "source": [
    "## Run model and make it spit the submissioN!\n",
    "X = df_test\n",
    "prediccion = clf.predict(X)\n",
    "\n",
    "submission = pd.DataFrame()\n",
    "temp = pd.read_csv('/kaggle/input/used-car-dataset/sample_submission.csv')\n",
    "submission['id'] = temp['id']\n",
    "submission['price'] = prediccion\n",
    "submission.to_csv('submission.csv',index=False)"
   ]
  },
  {
   "cell_type": "code",
   "execution_count": null,
   "id": "cf2a08cb",
   "metadata": {
    "papermill": {
     "duration": 0.003733,
     "end_time": "2024-09-22T17:17:06.641517",
     "exception": false,
     "start_time": "2024-09-22T17:17:06.637784",
     "status": "completed"
    },
    "tags": []
   },
   "outputs": [],
   "source": []
  }
 ],
 "metadata": {
  "kaggle": {
   "accelerator": "none",
   "dataSources": [
    {
     "datasetId": 5748939,
     "sourceId": 9456944,
     "sourceType": "datasetVersion"
    }
   ],
   "dockerImageVersionId": 30761,
   "isGpuEnabled": false,
   "isInternetEnabled": true,
   "language": "python",
   "sourceType": "notebook"
  },
  "kernelspec": {
   "display_name": "Python 3",
   "language": "python",
   "name": "python3"
  },
  "language_info": {
   "codemirror_mode": {
    "name": "ipython",
    "version": 3
   },
   "file_extension": ".py",
   "mimetype": "text/x-python",
   "name": "python",
   "nbconvert_exporter": "python",
   "pygments_lexer": "ipython3",
   "version": "3.10.14"
  },
  "papermill": {
   "default_parameters": {},
   "duration": 104.234675,
   "end_time": "2024-09-22T17:17:07.369214",
   "environment_variables": {},
   "exception": null,
   "input_path": "__notebook__.ipynb",
   "output_path": "__notebook__.ipynb",
   "parameters": {},
   "start_time": "2024-09-22T17:15:23.134539",
   "version": "2.6.0"
  }
 },
 "nbformat": 4,
 "nbformat_minor": 5
}
