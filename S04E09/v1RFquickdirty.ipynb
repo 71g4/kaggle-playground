{
 "cells": [
  {
   "cell_type": "code",
   "execution_count": 21,
   "id": "d9eb7b62",
   "metadata": {},
   "outputs": [
    {
     "name": "stdout",
     "output_type": "stream",
     "text": [
      "Collecting prettytable\n",
      "  Downloading prettytable-3.11.0-py3-none-any.whl.metadata (30 kB)\n",
      "Requirement already satisfied: wcwidth in c:\\users\\higaj\\anaconda3\\lib\\site-packages (from prettytable) (0.2.5)\n",
      "Downloading prettytable-3.11.0-py3-none-any.whl (28 kB)\n",
      "Installing collected packages: prettytable\n",
      "Successfully installed prettytable-3.11.0\n",
      "Note: you may need to restart the kernel to use updated packages.\n"
     ]
    }
   ],
   "source": [
    "pip install prettytable"
   ]
  },
  {
   "cell_type": "code",
   "execution_count": 97,
   "id": "772646a9",
   "metadata": {},
   "outputs": [],
   "source": [
    "import pandas as pd\n",
    "import numpy as np\n",
    "from prettytable import PrettyTable\n",
    "\n",
    "\n",
    "from sklearn.preprocessing import OrdinalEncoder\n",
    "from sklearn.impute import SimpleImputer\n",
    "from sklearn.compose import ColumnTransformer\n",
    "from sklearn.pipeline import Pipeline\n",
    "from sklearn.preprocessing import OneHotEncoder\n",
    "from sklearn.model_selection import train_test_split\n",
    "\n",
    "from sklearn.ensemble import RandomForestRegressor\n",
    "from sklearn.metrics import mean_squared_error\n",
    "\n",
    "df_train = pd.read_csv(r'C:\\Users\\higaj\\Desktop\\py\\used_cars\\train.csv')\n",
    "df_test = pd.read_csv(r'C:\\Users\\higaj\\Desktop\\py\\used_cars\\test.csv')"
   ]
  },
  {
   "cell_type": "code",
   "execution_count": null,
   "id": "5159b715",
   "metadata": {
    "scrolled": true
   },
   "outputs": [],
   "source": []
  },
  {
   "cell_type": "code",
   "execution_count": 98,
   "id": "f9db7970",
   "metadata": {
    "scrolled": true
   },
   "outputs": [
    {
     "name": "stdout",
     "output_type": "stream",
     "text": [
      "+---------------+---------+--------+-------------+\n",
      "| Variable_name | nUnique | DTypes | Work Status |\n",
      "+---------------+---------+--------+-------------+\n",
      "|       id      |  188533 | int64  |   DROPPED   |\n",
      "|     brand     |    57   | object |    later    |\n",
      "|     model     |   1897  | object |    later    |\n",
      "|   model_year  |    34   | int64  |  NUMERICAL  |\n",
      "|     milage    |   6651  | int64  |  NUMERICAL  |\n",
      "|   fuel_type   |    7    | object | CATEGORICAL |\n",
      "|     engine    |   1117  | object |    later    |\n",
      "|  transmission |    52   | object |    later    |\n",
      "|    ext_col    |   319   | object |    later    |\n",
      "|    int_col    |   156   | object |    later    |\n",
      "|    accident   |    2    | object |  NUMERICAL  |\n",
      "|  clean_title  |    1    | object |  NUMERICAL  |\n",
      "|     price     |   1569  | int64  |      Y      |\n",
      "+---------------+---------+--------+-------------+\n"
     ]
    }
   ],
   "source": [
    "table = PrettyTable()\n",
    "table.field_names = ['Variable_name', 'nUnique', 'DTypes']\n",
    "\n",
    "\n",
    "for i in df_train.columns:\n",
    "    var = i \n",
    "    nunique = df_train[i].nunique()\n",
    "    dtyp = df_train[i].dtypes\n",
    "    table.add_row([var, nunique, dtyp])\n",
    "\n",
    "\n",
    "table.add_column('Work Status',['DROPPED', 'later', 'later', 'NUMERICAL', 'NUMERICAL', 'CATEGORICAL', 'later', 'later', 'later', 'later','NUMERICAL', 'NUMERICAL', 'Y'])\n",
    "print(table)\n",
    "## Based on the information from table below, classify:\n",
    "# id - Drop column\n",
    "# y = Price\n",
    "# Numeric variables: Model_year, milage, accident(make boolean), clean_title(make boolean)\n",
    "# Categorical variables: fuel_type\n",
    "\n",
    "\n",
    "# Model + brand: segment based on average price maybe??\n",
    "# transmission\n",
    "# Engine: super complex, separate into various columns\n",
    "\n",
    "# ignore for now: int_col / ext_col"
   ]
  },
  {
   "cell_type": "code",
   "execution_count": 99,
   "id": "30b5c186",
   "metadata": {},
   "outputs": [],
   "source": [
    "### Drop ID column\n",
    "df_train.drop(columns='id', inplace=True)\n",
    "df_test.drop(columns='id', inplace=True)"
   ]
  },
  {
   "cell_type": "code",
   "execution_count": 100,
   "id": "0ba2db62",
   "metadata": {},
   "outputs": [
    {
     "name": "stderr",
     "output_type": "stream",
     "text": [
      "C:\\Users\\higaj\\AppData\\Local\\Temp\\ipykernel_3808\\3880557373.py:3: FutureWarning: Setting an item of incompatible dtype is deprecated and will raise in a future error of pandas. Value 'False' has dtype incompatible with float64, please explicitly cast to a compatible dtype first.\n",
      "  df_train.loc[df_train['accident'] == 'None reported', 'accidentbool'] = False\n",
      "C:\\Users\\higaj\\AppData\\Local\\Temp\\ipykernel_3808\\3880557373.py:7: FutureWarning: Setting an item of incompatible dtype is deprecated and will raise in a future error of pandas. Value 'False' has dtype incompatible with float64, please explicitly cast to a compatible dtype first.\n",
      "  df_test.loc[df_test['accident'] == 'None reported', 'accidentbool'] = False\n"
     ]
    }
   ],
   "source": [
    "    ### Clean the 'Accident' column\n",
    "df_train['accident'].unique()\n",
    "df_train.loc[df_train['accident'] == 'None reported', 'accidentbool'] = False\n",
    "df_train.loc[df_train['accident'] == 'At least 1 accident or damage reported', 'accidentbool'] = True\n",
    "df_train.drop(columns='accident', inplace = True)\n",
    "\n",
    "df_test.loc[df_test['accident'] == 'None reported', 'accidentbool'] = False\n",
    "df_test.loc[df_test['accident'] == 'At least 1 accident or damage reported', 'accidentbool'] = True\n",
    "df_test.drop(columns='accident', inplace = True)"
   ]
  },
  {
   "cell_type": "code",
   "execution_count": 101,
   "id": "c114571f",
   "metadata": {},
   "outputs": [
    {
     "name": "stderr",
     "output_type": "stream",
     "text": [
      "C:\\Users\\higaj\\AppData\\Local\\Temp\\ipykernel_3808\\774671184.py:3: FutureWarning: Setting an item of incompatible dtype is deprecated and will raise in a future error of pandas. Value 'True' has dtype incompatible with float64, please explicitly cast to a compatible dtype first.\n",
      "  df_train.loc[df_train['clean_title'] == 'Yes', 'cleanbool'] = True\n",
      "C:\\Users\\higaj\\AppData\\Local\\Temp\\ipykernel_3808\\774671184.py:6: FutureWarning: Setting an item of incompatible dtype is deprecated and will raise in a future error of pandas. Value 'True' has dtype incompatible with float64, please explicitly cast to a compatible dtype first.\n",
      "  df_test.loc[df_test['clean_title'] == 'Yes', 'cleanbool'] = True\n"
     ]
    }
   ],
   "source": [
    "### Clean the 'clean_title' column\n",
    "df_train['clean_title'].unique()\n",
    "df_train.loc[df_train['clean_title'] == 'Yes', 'cleanbool'] = True\n",
    "df_train.drop(columns='clean_title', inplace = True)\n",
    "\n",
    "df_test.loc[df_test['clean_title'] == 'Yes', 'cleanbool'] = True\n",
    "df_test.drop(columns='clean_title', inplace = True)\n"
   ]
  },
  {
   "cell_type": "code",
   "execution_count": 102,
   "id": "7735917e",
   "metadata": {},
   "outputs": [
    {
     "name": "stdout",
     "output_type": "stream",
     "text": [
      "76432.4042817347\n"
     ]
    }
   ],
   "source": [
    "# Define the Tables\n",
    "X = df_train\n",
    "X = X.drop(columns='price')\n",
    "y = df_train.price\n",
    "\n",
    "# Define the columns that are going to be used\n",
    "numerical_cols = ['model_year', 'milage']\n",
    "categorical_cols = ['fuel_type', 'cleanbool', 'accidentbool']\n",
    "\n",
    "# Separate test and validation of the df_train dataframe\n",
    "X_train, X_valid, y_train, y_valid = train_test_split(X, y, train_size=0.8, test_size=0.2, random_state=0)\n",
    "\n",
    "# Defining strategies for numerical and categorical columns\n",
    "numerical_transformer = SimpleImputer(strategy='mean')\n",
    "\n",
    "categorical_transformer = Pipeline(steps=[\n",
    "    ('imputer', SimpleImputer(strategy='most_frequent')),\n",
    "    ('onehot', OneHotEncoder(handle_unknown='ignore'))\n",
    "])\n",
    "\n",
    "# Bundle the preprocessor\n",
    "\n",
    "preprocessor = ColumnTransformer(\n",
    "    transformers=[\n",
    "        ('num', numerical_transformer, numerical_cols),\n",
    "        ('cat', categorical_transformer, categorical_cols)\n",
    "    ])\n",
    "\n",
    "# Modeling\n",
    "model = RandomForestRegressor(n_estimators = 100, random_state=0)\n",
    "clf = Pipeline(steps=[('preprocessor', preprocessor),\n",
    "                  ('model', model)\n",
    "                 ])\n",
    "\n",
    "clf.fit(X_train, y_train)\n",
    "preds = clf.predict(X_valid)\n",
    "print(np.sqrt(mean_squared_error(preds, y_valid)))"
   ]
  },
  {
   "cell_type": "code",
   "execution_count": 105,
   "id": "38d6c2ef",
   "metadata": {},
   "outputs": [],
   "source": [
    "## Run model and make it spit the submissioN!\n",
    "X = df_test\n",
    "prediccion = clf.predict(X)\n",
    "\n",
    "submission = pd.DataFrame()\n",
    "temp = pd.read_csv(r'C:\\Users\\higaj\\Desktop\\py\\used_cars\\sample_submission.csv')\n",
    "submission['id'] = temp['id']\n",
    "submission['price'] = prediccion\n",
    "submission.to_csv('submission.csv',index=False)"
   ]
  },
  {
   "cell_type": "code",
   "execution_count": null,
   "id": "e0caa05b",
   "metadata": {},
   "outputs": [],
   "source": []
  },
  {
   "cell_type": "code",
   "execution_count": null,
   "id": "f871a00d",
   "metadata": {},
   "outputs": [],
   "source": []
  }
 ],
 "metadata": {
  "kernelspec": {
   "display_name": "Python 3 (ipykernel)",
   "language": "python",
   "name": "python3"
  },
  "language_info": {
   "codemirror_mode": {
    "name": "ipython",
    "version": 3
   },
   "file_extension": ".py",
   "mimetype": "text/x-python",
   "name": "python",
   "nbconvert_exporter": "python",
   "pygments_lexer": "ipython3",
   "version": "3.11.7"
  }
 },
 "nbformat": 4,
 "nbformat_minor": 5
}
